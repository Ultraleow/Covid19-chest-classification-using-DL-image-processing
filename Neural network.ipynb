{
  "nbformat": 4,
  "nbformat_minor": 0,
  "metadata": {
    "colab": {
      "name": "DL.ipynb",
      "provenance": [],
      "collapsed_sections": []
    },
    "kernelspec": {
      "name": "python3",
      "display_name": "Python 3"
    },
    "accelerator": "GPU"
  },
  "cells": [
    {
      "cell_type": "code",
      "metadata": {
        "id": "7AKaMCRbNpaY",
        "colab": {
          "base_uri": "https://localhost:8080/"
        },
        "outputId": "a7ecc7a8-bb59-40fd-c0a3-70a4b11818ca"
      },
      "source": [
        "!pip install alexnet_pytorch\r\n",
        "from alexnet_pytorch import AlexNet\r\n",
        "import json\r\n",
        "import torch\r\n",
        "import torchvision.transforms as transforms\r\n",
        "from PIL import Image\r\n",
        "import torchvision.datasets as datasets\r\n",
        "import torchvision.transforms as transforms\r\n",
        "import torch.nn as nn\r\n",
        "import torch.optim as optim\r\n",
        "import time\r\n",
        "# Run this cell to mount your Google Drive.\r\n",
        "from google.colab import drive\r\n",
        "drive.mount('/content/drive')\r\n",
        "import sys\r\n",
        "sys.path.append('/content/drive/MyDrive/Colab Notebooks/image_pro')\r\n",
        "%cd /content/drive/MyDrive/Colab Notebooks/image_pro"
      ],
      "execution_count": 2,
      "outputs": [
        {
          "output_type": "stream",
          "text": [
            "Requirement already satisfied: alexnet_pytorch in /usr/local/lib/python3.6/dist-packages (0.2.0)\n",
            "Requirement already satisfied: torch in /usr/local/lib/python3.6/dist-packages (from alexnet_pytorch) (1.7.0+cu101)\n",
            "Requirement already satisfied: dataclasses in /usr/local/lib/python3.6/dist-packages (from torch->alexnet_pytorch) (0.8)\n",
            "Requirement already satisfied: typing-extensions in /usr/local/lib/python3.6/dist-packages (from torch->alexnet_pytorch) (3.7.4.3)\n",
            "Requirement already satisfied: numpy in /usr/local/lib/python3.6/dist-packages (from torch->alexnet_pytorch) (1.19.5)\n",
            "Requirement already satisfied: future in /usr/local/lib/python3.6/dist-packages (from torch->alexnet_pytorch) (0.16.0)\n",
            "Drive already mounted at /content/drive; to attempt to forcibly remount, call drive.mount(\"/content/drive\", force_remount=True).\n",
            "/content/drive/MyDrive/Colab Notebooks/image_pro\n"
          ],
          "name": "stdout"
        }
      ]
    },
    {
      "cell_type": "code",
      "metadata": {
        "colab": {
          "base_uri": "https://localhost:8080/"
        },
        "id": "LrBlWxIzHmy6",
        "outputId": "94d8d9cd-a4b9-4528-e27d-2452cc0f6f5a"
      },
      "source": [
        "if torch.cuda.is_available():\r\n",
        "  print(3)"
      ],
      "execution_count": 2,
      "outputs": [
        {
          "output_type": "stream",
          "text": [
            "3\n"
          ],
          "name": "stdout"
        }
      ]
    },
    {
      "cell_type": "code",
      "metadata": {
        "id": "ryrPybneN5r1",
        "colab": {
          "base_uri": "https://localhost:8080/"
        },
        "outputId": "99a7f97f-18ef-4860-e5c6-59d4139a5654"
      },
      "source": [
        "# define model parameters\r\n",
        "NUM_EPOCHS = 20 \r\n",
        "BATCH_SIZE = 64\r\n",
        "MOMENTUM = 0.9\r\n",
        "LR_DECAY = 0.0005\r\n",
        "LR_INIT = 0.01\r\n",
        "IMAGE_DIM = 227  # pixels\r\n",
        "NUM_CLASSES = 2  #number of bit\r\n",
        "DEVICE_IDS = [0, 1, 2,3]  # GPUs to use\r\n",
        "#DEVICE_IDS = [0]\r\n",
        "device = torch.device('cuda' if torch.cuda.is_available() else 'cpu')\r\n",
        "model = AlexNet.from_pretrained('alexnet',num_classes=2).to(device)\r\n",
        "model.eval()\r\n",
        "\r\n",
        "# modify this to point to your data directory\r\n",
        "ROOT = r'/content/drive/MyDrive/Colab Notebooks/image_pro/'\r\n",
        "#INPUT_ROOT_DIR = 'alexnet_data_in'\r\n",
        "TRAIN_IMG_DIR = ROOT+'datasets_post/train'\r\n",
        "TEST_IMG_DIR = ROOT+'datasets_post/test'\r\n",
        "VALI_IMG_DIR = ROOT+'datasets_post/vali'\r\n",
        "OUTPUT_DIR = ROOT+'result'\r\n",
        "\r\n",
        "LOG_DIR = OUTPUT_DIR + '/tblogs'  # tensorboard logs\r\n",
        "CHECKPOINT_DIR = OUTPUT_DIR + '/models'  # model checkpoints"
      ],
      "execution_count": 3,
      "outputs": [
        {
          "output_type": "stream",
          "text": [
            "Loaded pretrained weights for alexnet\n"
          ],
          "name": "stdout"
        }
      ]
    },
    {
      "cell_type": "code",
      "metadata": {
        "id": "cFMDnO_sN683",
        "colab": {
          "base_uri": "https://localhost:8080/"
        },
        "outputId": "0c548083-3dbc-42ad-8c45-ca82958b3f97"
      },
      "source": [
        "# print the seed value\r\n",
        "seed = torch.initial_seed()\r\n",
        "print('Used seed : {}'.format(seed))\r\n",
        "#tbwriter = SummaryWriter(log_dir=LOG_DIR)\r\n",
        "#print('TensorboardX summary writer created')\r\n"
      ],
      "execution_count": 4,
      "outputs": [
        {
          "output_type": "stream",
          "text": [
            "Used seed : 15126668862055365485\n"
          ],
          "name": "stdout"
        }
      ]
    },
    {
      "cell_type": "code",
      "metadata": {
        "id": "tdbaji35OJ-T"
      },
      "source": [
        "means=[0.485, 0.456, 0.406]\r\n",
        "stds=[0.229, 0.224, 0.225]"
      ],
      "execution_count": 5,
      "outputs": []
    },
    {
      "cell_type": "code",
      "metadata": {
        "id": "HV-hT9JqOAav",
        "colab": {
          "base_uri": "https://localhost:8080/"
        },
        "outputId": "423e5832-5e2a-495a-e1b5-1be36ad8f0ce"
      },
      "source": [
        "ROOT = '.data'\r\n",
        "train_data = datasets.CIFAR10(root = ROOT, \r\n",
        "                             train = True, \r\n",
        "                             download = True)\r\n",
        "\r\n",
        "means = train_data.data.mean(axis = (0,1,2)) / 255\r\n",
        "stds = train_data.data.std(axis = (0,1,2)) / 255"
      ],
      "execution_count": 5,
      "outputs": [
        {
          "output_type": "stream",
          "text": [
            "Files already downloaded and verified\n"
          ],
          "name": "stdout"
        }
      ]
    },
    {
      "cell_type": "code",
      "metadata": {
        "id": "585odnS7OMkF"
      },
      "source": [
        "train_transforms = transforms.Compose([\r\n",
        "                                       transforms.Resize(800),\r\n",
        "                           transforms.RandomRotation(5),\r\n",
        "                           transforms.RandomHorizontalFlip(0.5),\r\n",
        "                          #  transforms.RandomCrop(32, padding = 2),\r\n",
        "                           transforms.ToTensor(),\r\n",
        "                           transforms.Normalize(mean = means, \r\n",
        "                                                std = stds)\r\n",
        "                       ])\r\n",
        "test_transforms = transforms.Compose([\r\n",
        "                                      transforms.Resize(800),\r\n",
        "                           transforms.ToTensor(),\r\n",
        "                           transforms.Normalize(mean = means, \r\n",
        "                                                std = stds)\r\n",
        "                       ])"
      ],
      "execution_count": 6,
      "outputs": []
    },
    {
      "cell_type": "code",
      "metadata": {
        "id": "Im_3K-yIOQ5W"
      },
      "source": [
        "def fetchData():\r\n",
        "    '''\r\n",
        "    fetch data from file.\r\n",
        "    @return: train, test and valid dataset\r\n",
        "    '''\r\n",
        "    train_path = TRAIN_IMG_DIR # edit me\r\n",
        "    valid_path = VALI_IMG_DIR # edit me\r\n",
        "    test_path = TEST_IMG_DIR\r\n",
        "    train_data = datasets.ImageFolder(train_path, transform=train_transforms)\r\n",
        "    valid_data = datasets.ImageFolder(valid_path, transform=test_transforms)\r\n",
        "    test_data = datasets.ImageFolder(test_path, transform=test_transforms)\r\n",
        "    return train_data, valid_data, test_data\r\n",
        "    #return train_data,test_path\r\n",
        "\r\n",
        "\r\n",
        "\r\n",
        "train_data,valid_data,test_data = fetchData()\r\n",
        "params = {'batch_size': BATCH_SIZE,\r\n",
        "          'shuffle': True,\r\n",
        "          'num_workers': len(DEVICE_IDS)}\r\n",
        "\r\n",
        "train_loader = torch.utils.data.DataLoader(train_data, **params)\r\n",
        "vali_loader = torch.utils.data.DataLoader(valid_data,**params)\r\n",
        "test_loader = torch.utils.data.DataLoader(test_data,**params)"
      ],
      "execution_count": 7,
      "outputs": []
    },
    {
      "cell_type": "code",
      "metadata": {
        "id": "pjVSNP_jOVjE",
        "colab": {
          "base_uri": "https://localhost:8080/"
        },
        "outputId": "fa2b23b6-478d-4adc-aee5-2a0408017a1e"
      },
      "source": [
        "optimizer = optim.Adam(params=model.parameters(), lr=0.0001, weight_decay=5e-2)\r\n",
        "# multiply LR by 1 / 10 after every 30 epochs\r\n",
        "lr_scheduler = optim.lr_scheduler.StepLR(optimizer, step_size=2, gamma=0.1)\r\n",
        "print('LR Scheduler created')\r\n",
        "# start training!!\r\n",
        "print('Starting training...')\r\n",
        "total_steps = 1\r\n",
        "criterion = nn.CrossEntropyLoss()\r\n",
        "criterion = criterion.to(device)\r\n",
        "\r\n",
        "def save_model(model, filename):\r\n",
        "    filename = os.path.join(\"checkpoints\", filename + \".pth\")\r\n",
        "    dirname = os.path.dirname(filename)\r\n",
        "    os.makedirs(dirname, exist_ok=True)\r\n",
        "    torch.save(model.state_dict(), filename)\r\n",
        "def calculate_accuracy(y_pred, y):\r\n",
        "    top_pred = y_pred.argmax(1, keepdim = True)\r\n",
        "    correct = top_pred.eq(y.view_as(top_pred)).sum()\r\n",
        "    acc = correct.float() / y.shape[0]\r\n",
        "    return acc\r\n",
        "\r\n",
        "def train(model, iterator, optimizer, criterion, device):\r\n",
        "    \r\n",
        "    epoch_loss = 0\r\n",
        "    epoch_acc = 0\r\n",
        "    \r\n",
        "    model.train()\r\n",
        "    \r\n",
        "    for (x, y) in iterator:\r\n",
        "        \r\n",
        "        x = x.to(device)\r\n",
        "        y = y.to(device)\r\n",
        "        \r\n",
        "        optimizer.zero_grad()\r\n",
        "                \r\n",
        "        y_pred = model(x)\r\n",
        "        \r\n",
        "        loss = criterion(y_pred, y)\r\n",
        "        \r\n",
        "        acc = calculate_accuracy(y_pred, y)\r\n",
        "        \r\n",
        "        loss.backward()\r\n",
        "        \r\n",
        "        optimizer.step()\r\n",
        "        \r\n",
        "        epoch_loss += loss.item()\r\n",
        "        epoch_acc += acc.item()\r\n",
        "        \r\n",
        "    return epoch_loss / len(iterator), epoch_acc / len(iterator)\r\n",
        "\r\n",
        "def evaluate(model, iterator, criterion, device):\r\n",
        "    \r\n",
        "    epoch_loss = 0\r\n",
        "    epoch_acc = 0\r\n",
        "    \r\n",
        "    model.eval()\r\n",
        "    \r\n",
        "    with torch.no_grad():\r\n",
        "        \r\n",
        "        for (x, y) in iterator:\r\n",
        "\r\n",
        "            x = x.to(device)\r\n",
        "            y = y.to(device)\r\n",
        "\r\n",
        "            y_pred = model(x)\r\n",
        "\r\n",
        "            loss = criterion(y_pred, y)\r\n",
        "\r\n",
        "            acc = calculate_accuracy(y_pred, y)\r\n",
        "\r\n",
        "            epoch_loss += loss.item()\r\n",
        "            epoch_acc += acc.item()\r\n",
        "        \r\n",
        "    return epoch_loss / len(iterator), epoch_acc / len(iterator)\r\n",
        "\r\n",
        "def epoch_time(start_time, end_time):\r\n",
        "    elapsed_time = end_time - start_time\r\n",
        "    elapsed_mins = int(elapsed_time / 60)\r\n",
        "    elapsed_secs = int(elapsed_time - (elapsed_mins * 60))\r\n",
        "    return elapsed_mins, elapsed_secs\r\n",
        "\r\n",
        "best_valid_loss = float('inf')"
      ],
      "execution_count": 8,
      "outputs": [
        {
          "output_type": "stream",
          "text": [
            "LR Scheduler created\n",
            "Starting training...\n"
          ],
          "name": "stdout"
        }
      ]
    },
    {
      "cell_type": "code",
      "metadata": {
        "id": "P45FKMsgOXVY",
        "colab": {
          "base_uri": "https://localhost:8080/"
        },
        "outputId": "10185c98-2203-4296-af46-4cd2e0cba70d"
      },
      "source": [
        "for epoch in range(NUM_EPOCHS):\r\n",
        "    \r\n",
        "    start_time = time.monotonic()\r\n",
        "    \r\n",
        "    train_loss, train_acc = train(model, train_loader, optimizer, criterion, device)\r\n",
        "    valid_loss, valid_acc = evaluate(model, vali_loader, criterion, device)\r\n",
        "        \r\n",
        "    if valid_loss < best_valid_loss:\r\n",
        "        best_valid_loss = valid_loss\r\n",
        "        torch.save(model.state_dict(), 'tut3-model.pt')\r\n",
        "\r\n",
        "    end_time = time.monotonic()\r\n",
        "\r\n",
        "    epoch_mins, epoch_secs = epoch_time(start_time, end_time)\r\n",
        "    \r\n",
        "    print(f'Epoch: {epoch+1:02} | Epoch Time: {epoch_mins}m {epoch_secs}s')\r\n",
        "    print(f'\\tTrain Loss: {train_loss:.3f} | Train Acc: {train_acc*100:.2f}%')\r\n",
        "    print(f'\\t Val. Loss: {valid_loss:.3f} |  Val. Acc: {valid_acc*100:.2f}%')\r\n",
        "\r\n",
        "\r\n"
      ],
      "execution_count": 11,
      "outputs": [
        {
          "output_type": "stream",
          "text": [
            "Epoch: 01 | Epoch Time: 0m 21s\n",
            "\tTrain Loss: 0.424 | Train Acc: 80.63%\n",
            "\t Val. Loss: 0.905 |  Val. Acc: 50.19%\n",
            "Epoch: 02 | Epoch Time: 0m 19s\n",
            "\tTrain Loss: 0.261 | Train Acc: 90.15%\n",
            "\t Val. Loss: 1.380 |  Val. Acc: 51.71%\n",
            "Epoch: 03 | Epoch Time: 0m 19s\n",
            "\tTrain Loss: 0.229 | Train Acc: 90.66%\n",
            "\t Val. Loss: 1.525 |  Val. Acc: 50.58%\n",
            "Epoch: 04 | Epoch Time: 0m 19s\n",
            "\tTrain Loss: 0.201 | Train Acc: 93.10%\n",
            "\t Val. Loss: 1.145 |  Val. Acc: 51.91%\n",
            "Epoch: 05 | Epoch Time: 0m 19s\n",
            "\tTrain Loss: 0.178 | Train Acc: 93.53%\n",
            "\t Val. Loss: 1.359 |  Val. Acc: 52.16%\n",
            "Epoch: 06 | Epoch Time: 0m 19s\n",
            "\tTrain Loss: 0.174 | Train Acc: 93.89%\n",
            "\t Val. Loss: 1.771 |  Val. Acc: 50.31%\n",
            "Epoch: 07 | Epoch Time: 0m 19s\n",
            "\tTrain Loss: 0.176 | Train Acc: 93.50%\n",
            "\t Val. Loss: 1.741 |  Val. Acc: 52.32%\n",
            "Epoch: 08 | Epoch Time: 0m 19s\n",
            "\tTrain Loss: 0.167 | Train Acc: 93.28%\n",
            "\t Val. Loss: 2.262 |  Val. Acc: 50.35%\n",
            "Epoch: 09 | Epoch Time: 0m 19s\n",
            "\tTrain Loss: 0.171 | Train Acc: 93.92%\n",
            "\t Val. Loss: 1.383 |  Val. Acc: 51.52%\n",
            "Epoch: 10 | Epoch Time: 0m 19s\n",
            "\tTrain Loss: 0.171 | Train Acc: 93.17%\n",
            "\t Val. Loss: 2.094 |  Val. Acc: 49.92%\n",
            "Epoch: 11 | Epoch Time: 0m 19s\n",
            "\tTrain Loss: 0.173 | Train Acc: 92.93%\n",
            "\t Val. Loss: 1.163 |  Val. Acc: 54.34%\n",
            "Epoch: 12 | Epoch Time: 0m 19s\n",
            "\tTrain Loss: 0.153 | Train Acc: 94.60%\n",
            "\t Val. Loss: 1.574 |  Val. Acc: 50.78%\n",
            "Epoch: 13 | Epoch Time: 0m 19s\n",
            "\tTrain Loss: 0.140 | Train Acc: 94.24%\n",
            "\t Val. Loss: 1.964 |  Val. Acc: 51.21%\n",
            "Epoch: 14 | Epoch Time: 0m 19s\n",
            "\tTrain Loss: 0.139 | Train Acc: 94.44%\n",
            "\t Val. Loss: 1.571 |  Val. Acc: 53.25%\n",
            "Epoch: 15 | Epoch Time: 0m 19s\n",
            "\tTrain Loss: 0.143 | Train Acc: 94.67%\n",
            "\t Val. Loss: 1.664 |  Val. Acc: 54.77%\n",
            "Epoch: 16 | Epoch Time: 0m 18s\n",
            "\tTrain Loss: 0.130 | Train Acc: 94.55%\n",
            "\t Val. Loss: 1.905 |  Val. Acc: 51.17%\n",
            "Epoch: 17 | Epoch Time: 0m 19s\n",
            "\tTrain Loss: 0.110 | Train Acc: 96.20%\n",
            "\t Val. Loss: 1.627 |  Val. Acc: 54.18%\n",
            "Epoch: 18 | Epoch Time: 0m 19s\n",
            "\tTrain Loss: 0.158 | Train Acc: 92.88%\n",
            "\t Val. Loss: 2.335 |  Val. Acc: 50.31%\n",
            "Epoch: 19 | Epoch Time: 0m 19s\n",
            "\tTrain Loss: 0.139 | Train Acc: 94.89%\n",
            "\t Val. Loss: 2.010 |  Val. Acc: 49.49%\n",
            "Epoch: 20 | Epoch Time: 0m 19s\n",
            "\tTrain Loss: 0.115 | Train Acc: 96.09%\n",
            "\t Val. Loss: 2.094 |  Val. Acc: 52.16%\n"
          ],
          "name": "stdout"
        }
      ]
    },
    {
      "cell_type": "code",
      "metadata": {
        "id": "qqayz_NTBv6i"
      },
      "source": [
        "torch.save(model,'/content/drive/MyDrive/Colab Notebooks/image_pro/test_2.pt')"
      ],
      "execution_count": 10,
      "outputs": []
    },
    {
      "cell_type": "code",
      "metadata": {
        "id": "lr2jatupBBGg",
        "colab": {
          "base_uri": "https://localhost:8080/"
        },
        "outputId": "691b8d1c-c6f8-4d7c-a583-4287e12031f7"
      },
      "source": [
        "ok=torch.load('test_2.pt')\r\n",
        "#model.load_state_dict(ok)\r\n",
        "\r\n",
        "test_loss, test_acc = evaluate(model, test_loader, criterion, device)\r\n",
        "\r\n",
        "print(f'Test Loss: {test_loss:.3f} | Test Acc: {test_acc*100:.2f}%')"
      ],
      "execution_count": 14,
      "outputs": [
        {
          "output_type": "stream",
          "text": [
            "Test Loss: 0.319 | Test Acc: 90.18%\n"
          ],
          "name": "stdout"
        }
      ]
    },
    {
      "cell_type": "code",
      "metadata": {
        "id": "-qsUaNLQBCdI",
        "colab": {
          "base_uri": "https://localhost:8080/",
          "height": 574
        },
        "outputId": "ac5d8ff9-4bfe-4ed9-ff36-5402297d1868"
      },
      "source": [
        "import torch.nn.functional as F\r\n",
        "import matplotlib.pyplot as plt\r\n",
        "from sklearn.metrics import confusion_matrix,ConfusionMatrixDisplay\r\n",
        "def get_predictions(model, iterator, device):\r\n",
        "\r\n",
        "    model.eval()\r\n",
        "\r\n",
        "    images = []\r\n",
        "    labels = []\r\n",
        "    probs = []\r\n",
        "\r\n",
        "    with torch.no_grad():\r\n",
        "\r\n",
        "        for (x, y) in iterator:\r\n",
        "\r\n",
        "            x = x.to(device)\r\n",
        "\r\n",
        "            y_pred = model(x)\r\n",
        "\r\n",
        "            y_prob = F.softmax(y_pred, dim = -1)\r\n",
        "            top_pred = y_prob.argmax(1, keepdim = True)\r\n",
        "\r\n",
        "            # images.append(x.cpu())\r\n",
        "            labels.append(y.cpu())\r\n",
        "            probs.append(y_prob.cpu())\r\n",
        "\r\n",
        "    #images = torch.cat(images, dim = 0)\r\n",
        "    labels = torch.cat(labels, dim = 0)\r\n",
        "    probs = torch.cat(probs, dim = 0)\r\n",
        "\r\n",
        "    return images, labels, probs\r\n",
        "images, labels, probs = get_predictions(model, test_loader, device)\r\n",
        "pred_labels = torch.argmax(probs, 1)\r\n",
        "def plot_confusion_matrix(labels, pred_labels, classes):\r\n",
        "    \r\n",
        "    fig = plt.figure(figsize = (10, 10));\r\n",
        "    ax = fig.add_subplot(1, 1, 1);\r\n",
        "    cm = confusion_matrix(labels, pred_labels);\r\n",
        "    cm = ConfusionMatrixDisplay(cm, display_labels = classes);\r\n",
        "    cm.plot(values_format = 'd', cmap = 'Blues', ax = ax)\r\n",
        "    plt.xticks(rotation = 20)\r\n",
        "plot_confusion_matrix(labels, pred_labels, ['Positive','Negative'])"
      ],
      "execution_count": 13,
      "outputs": [
        {
          "output_type": "display_data",
          "data": {
            "image/png": "[encoded data removed]",
            "text/plain": [
              "<Figure size 720x720 with 2 Axes>"
            ]
          },
          "metadata": {
            "tags": [],
            "needs_background": "light"
          }
        }
      ]
    },
    {
      "cell_type": "markdown",
      "metadata": {
        "id": "AKq6k9wLBg9u"
      },
      "source": [
        "https://github.com/bentrevett/pytorch-image-classification/blob/master/3_alexnet.ipynb"
      ]
    }
  ]
}